{
 "cells": [
  {
   "cell_type": "markdown",
   "id": "4da647d0",
   "metadata": {},
   "source": [
    "## Genetic Algorithm for optimizing city transport routes\n",
    " \n",
    " ### Description of our scenario\n",
    " \n",
    " - Gene: a key point of interest of the city\n",
    " - Individual (aka “chromosome”): any possible transport route, a sequence of locations we visit\n",
    " - Fitness: a function that tells us how good each route is (in our case, how low the length is and how high the diversity of the route is )"
   ]
  },
  {
   "cell_type": "code",
   "execution_count": 1,
   "id": "1a874e45",
   "metadata": {},
   "outputs": [
    {
     "name": "stdout",
     "output_type": "stream",
     "text": [
      "Requirement already satisfied: pandas in c:\\users\\alberto\\anaconda3\\lib\\site-packages (1.4.4)Note: you may need to restart the kernel to use updated packages.\n",
      "\n",
      "Requirement already satisfied: python-dateutil>=2.8.1 in c:\\users\\alberto\\anaconda3\\lib\\site-packages (from pandas) (2.8.2)\n",
      "Requirement already satisfied: numpy>=1.18.5 in c:\\users\\alberto\\anaconda3\\lib\\site-packages (from pandas) (1.21.5)\n",
      "Requirement already satisfied: pytz>=2020.1 in c:\\users\\alberto\\anaconda3\\lib\\site-packages (from pandas) (2022.1)\n",
      "Requirement already satisfied: six>=1.5 in c:\\users\\alberto\\anaconda3\\lib\\site-packages (from python-dateutil>=2.8.1->pandas) (1.16.0)\n"
     ]
    }
   ],
   "source": [
    "pip install pandas"
   ]
  },
  {
   "cell_type": "code",
   "execution_count": 2,
   "id": "ec00d4e8",
   "metadata": {},
   "outputs": [],
   "source": [
    "import numpy as np, operator\n",
    "import pandas as pd \n",
    "import matplotlib.pyplot as plt\n",
    "import networkx as nx\n",
    "import random"
   ]
  },
  {
   "cell_type": "markdown",
   "id": "1203e51c",
   "metadata": {},
   "source": [
    "### Representation of a gene (a place of the city)\n",
    "Let's create a Place class that represents a place of the city (as we saw in the article about the TSP, we will consider a place by using 2 coordinates and we will calculate the distance between two places using the Pythagorean theorem)"
   ]
  },
  {
   "cell_type": "code",
   "execution_count": 3,
   "id": "c62f01c2",
   "metadata": {},
   "outputs": [],
   "source": [
    "class Place:\n",
    "    def __init__(self, x, y):\n",
    "        self.x = x\n",
    "        self.y = y\n",
    "    \n",
    "    def distance(self, place):\n",
    "        xDis = abs(self.x - place.x)\n",
    "        yDis = abs(self.y - place.y)\n",
    "        distance = np.sqrt((xDis ** 2) + (yDis ** 2))\n",
    "        return distance\n",
    "    \n",
    "    def __repr__(self):\n",
    "        return \"(\" + str(self.x) + \",\" + str(self.y) + \")\""
   ]
  },
  {
   "cell_type": "markdown",
   "id": "266f08b3",
   "metadata": {},
   "source": [
    "Now, let's assign coordinates to the interest points of the city that we are given in the instructions. We are going to use a dictionary to make things easier (each label will have an object Place associated). Thus, our sample data is the following one:"
   ]
  },
  {
   "cell_type": "code",
   "execution_count": 4,
   "id": "db8c6ce6",
   "metadata": {},
   "outputs": [],
   "source": [
    "myCity = {}\n",
    "\n",
    "myCity['R1']  = Place(3,6)\n",
    "myCity['R2']  = Place(5,2)\n",
    "myCity['R3']  = Place(2,4)\n",
    "\n",
    "myCity['B1']  = Place(9,1)\n",
    "myCity['B2']  = Place(4,7)\n",
    "\n",
    "myCity['S1']  = Place(1,8)\n",
    "myCity['S2']  = Place(6,9)\n",
    "\n",
    "myCity['H1']  = Place(7,3)\n",
    "\n",
    "myCity['SC1'] = Place(8,5)\n",
    "myCity['SC2'] = Place(0,0)"
   ]
  },
  {
   "cell_type": "markdown",
   "id": "41edc858",
   "metadata": {},
   "source": [
    "### Representation of an Individual Solution \n",
    "\n",
    "\n",
    "We need to create our initial population, so we will define a function that will produce random routes. We will check if they connect a residential area or not, the diversity of the route and the cummulated distance using the fitness function."
   ]
  },
  {
   "cell_type": "code",
   "execution_count": 5,
   "id": "91c49162",
   "metadata": {},
   "outputs": [],
   "source": [
    "def createRoute(city):\n",
    "    route = random.sample(list(city.keys()), int(len(city)*0.4))\n",
    "    return route"
   ]
  },
  {
   "cell_type": "markdown",
   "id": "03ab0ca1",
   "metadata": {},
   "source": [
    "### Initialization\n",
    "\n",
    "Now we use the function we have already defined to define the function that creates our initial population:"
   ]
  },
  {
   "cell_type": "code",
   "execution_count": 6,
   "id": "357838b9",
   "metadata": {},
   "outputs": [],
   "source": [
    "def initialPopulation(popSize, city):\n",
    "    population = []\n",
    "\n",
    "    for i in range(0, popSize):\n",
    "        population.append(createRoute(city))\n",
    "    return population"
   ]
  },
  {
   "cell_type": "markdown",
   "id": "f9ea91fc",
   "metadata": {},
   "source": [
    "### Fitness function\n",
    "\n",
    "A route will be better if it connects a residential area with other opints of the city and it has a distance lower than 10. If the distance is greater than 10, this will be penalized. Lastly, we will also add positive value to those routes which include different places (diversity). To track the different places visited, we will use a set. The penalization will be total when the totalDistance is greater or equal to 10. For intermediate cases, penalization will be calculated using a quaotient between the totalDistance and maxDistance."
   ]
  },
  {
   "cell_type": "code",
   "execution_count": 7,
   "id": "f5272ca6",
   "metadata": {},
   "outputs": [],
   "source": [
    "def valueFitness(route, city):\n",
    "    \n",
    "    totalDistance = 0\n",
    "    maxDistance = 10\n",
    "    trackedAreas = set()\n",
    "    residentialArea = 0\n",
    "    \n",
    "    for i in range(0, len(route)-1):\n",
    "        \n",
    "        trackedAreas.add(route[i])\n",
    "        totalDistance += city[route[i]].distance(city[route[i+1]])\n",
    "        \n",
    "        if route[i][0] == 'R':\n",
    "            residentialArea = 1\n",
    " \n",
    "    lastPlace = route[len(route)-1]\n",
    "    trackedAreas.add(lastPlace)   \n",
    "    if lastPlace[0] == 'R':\n",
    "            residentialArea = 1\n",
    "        \n",
    "        \n",
    "    penalized = max(0, 1 - totalDistance/maxDistance)\n",
    "    diversity = len(trackedAreas)/len(route)\n",
    "        \n",
    "    fitness = residentialArea * penalized + diversity**2\n",
    "    return fitness"
   ]
  },
  {
   "cell_type": "markdown",
   "id": "c188eb4f",
   "metadata": {},
   "source": [
    "To simulate our “survival of the fittest”, we can use the function valueFitness to rank each individual in the population. Our output will be an ordered list with the route IDs (index in population) and each associated fitness score."
   ]
  },
  {
   "cell_type": "code",
   "execution_count": 8,
   "id": "dce42dd8",
   "metadata": {},
   "outputs": [],
   "source": [
    "def rankRoutes(population, city):\n",
    "    fitnessResults = {}\n",
    "    for i in range(0,len(population)):\n",
    "        fitnessResults[i] = valueFitness(population[i], city)\n",
    "    return sorted(fitnessResults.items(), key = operator.itemgetter(1), reverse = True)"
   ]
  },
  {
   "cell_type": "markdown",
   "id": "04f81dca",
   "metadata": {},
   "source": [
    "### Selection method\n",
    "\n",
    "We would have to select a subgroup from the population such that this group constitutes the mating pool. For this, we need to define a selection mechanism. Let's see:"
   ]
  },
  {
   "cell_type": "code",
   "execution_count": 9,
   "id": "58bb7354",
   "metadata": {},
   "outputs": [],
   "source": [
    "def selection(popRanked, eliteSize):\n",
    "    selectionResults = []\n",
    "    df = pd.DataFrame(np.array(popRanked), columns=[\"Index\",\"Fitness\"])\n",
    "    df['cum_sum'] = df.Fitness.cumsum()\n",
    "    df['cum_perc'] = 100*df.cum_sum/df.Fitness.sum()\n",
    "    \n",
    "    for i in range(0, eliteSize):\n",
    "        selectionResults.append(popRanked[i][0])\n",
    "        \n",
    "    for i in range(0, len(popRanked) - eliteSize):\n",
    "        pick = 100*random.random()\n",
    "        for i in range(0, len(popRanked)):\n",
    "            if pick <= df.iat[i,3]:\n",
    "                selectionResults.append(popRanked[i][0])\n",
    "                break\n",
    "    return selectionResults"
   ]
  },
  {
   "cell_type": "markdown",
   "id": "2aa004d9",
   "metadata": {},
   "source": [
    "Now that we have the IDs of the combinations that will make up our mating pool from the selection function, we can create the mating pool. We’re simply extracting the selected individuals from our population."
   ]
  },
  {
   "cell_type": "code",
   "execution_count": 10,
   "id": "e2283378",
   "metadata": {},
   "outputs": [],
   "source": [
    "def matingPool(population, selectionResults):\n",
    "    matingpool = []\n",
    "    for i in range(0, len(selectionResults)):\n",
    "        index = selectionResults[i]\n",
    "        matingpool.append(population[index])\n",
    "    return matingpool"
   ]
  },
  {
   "cell_type": "markdown",
   "id": "4e707de3",
   "metadata": {},
   "source": [
    "### Crossover \n",
    "We will implement a simple crossover: pick a crossover point and splice the two strings together to produce an offspring."
   ]
  },
  {
   "cell_type": "code",
   "execution_count": 11,
   "id": "637f31a1",
   "metadata": {},
   "outputs": [],
   "source": [
    "def breed(parent1, parent2):\n",
    "    child = []\n",
    "    length = len(parent1)\n",
    "    splitpoint = random.randint(0, length)\n",
    "\n",
    "    for i in range(0, splitpoint):\n",
    "        child.append(parent1[i])\n",
    "        \n",
    "    for i in range(splitpoint, length):\n",
    "        child.append(parent2[i])\n",
    "        \n",
    "    return child"
   ]
  },
  {
   "cell_type": "markdown",
   "id": "19f5c587",
   "metadata": {},
   "source": [
    "Next we'll generalize this to create our offspring population"
   ]
  },
  {
   "cell_type": "code",
   "execution_count": 12,
   "id": "afd956e2",
   "metadata": {},
   "outputs": [],
   "source": [
    "def breedPopulation(matingpool, eliteSize):\n",
    "    children = []\n",
    "    length = len(matingpool) - eliteSize\n",
    "    pool = random.sample(matingpool, len(matingpool))\n",
    "\n",
    "    for i in range(0,eliteSize):\n",
    "        children.append(matingpool[i])\n",
    "    \n",
    "    for i in range(0, length):\n",
    "        child = breed(pool[i], pool[len(matingpool)-i-1])\n",
    "        children.append(child)\n",
    "    return children"
   ]
  },
  {
   "cell_type": "markdown",
   "id": "0dd3ab28",
   "metadata": {},
   "source": [
    "### Mutation\n",
    "\n",
    "We’ll use swap mutation. This means that, with specified low probability, a place from our route can be changed by another one in the city. We’ll do this for one individual in our mutate function:"
   ]
  },
  {
   "cell_type": "code",
   "execution_count": 13,
   "id": "4693e150",
   "metadata": {},
   "outputs": [],
   "source": [
    "mRate = 0.01"
   ]
  },
  {
   "cell_type": "code",
   "execution_count": 14,
   "id": "cefd6ecd",
   "metadata": {},
   "outputs": [],
   "source": [
    "def mutate(individual, mutationRate, city):\n",
    "    for swapped in range(len(individual)):\n",
    "        if(random.random() < mutationRate):\n",
    "            \n",
    "            index = int(random.random() * len(city))\n",
    "            swapWith = list(city.keys())[index]\n",
    "            \n",
    "            individual[swapped] = swapWith\n",
    "            \n",
    "    return individual"
   ]
  },
  {
   "cell_type": "markdown",
   "id": "845b309c",
   "metadata": {},
   "source": [
    "Next, we can extend the mutate function to run through the new population."
   ]
  },
  {
   "cell_type": "code",
   "execution_count": 15,
   "id": "bf82dff5",
   "metadata": {},
   "outputs": [],
   "source": [
    "def mutatePopulation(population, mutationRate, city):\n",
    "    mutatedPop = []\n",
    "    \n",
    "    for ind in range(0, len(population)):\n",
    "        mutatedInd = mutate(population[ind], mutationRate, city)\n",
    "        mutatedPop.append(mutatedInd)\n",
    "    return mutatedPop"
   ]
  },
  {
   "cell_type": "markdown",
   "id": "a1c71b6f",
   "metadata": {},
   "source": [
    "### Creating a New Generation\n",
    "\n",
    "Let’s pull these pieces together to create a function that produces a new generation. First, we rank the routes in the current generation using rankRoutes. We then determine our potential parents by running the selection function, which allows us to create the mating pool using the matingPool function. Finally, we then create our new generation using the breedPopulation function and then applying mutation using the mutatePopulation function."
   ]
  },
  {
   "cell_type": "code",
   "execution_count": 16,
   "id": "fdf50b4d",
   "metadata": {},
   "outputs": [],
   "source": [
    "def nextGeneration(currentGen, eliteSize, mutationRate, city):\n",
    "   \n",
    "    popRanked = rankRoutes(currentGen, city)\n",
    "    selectionResults = selection(popRanked, eliteSize)\n",
    "    matingpool = matingPool(currentGen, selectionResults)\n",
    "    children = breedPopulation(matingpool, eliteSize)\n",
    "    nextGeneration = mutatePopulation(children, mutationRate, city)\n",
    "    return nextGeneration"
   ]
  },
  {
   "cell_type": "markdown",
   "id": "45cde1ca",
   "metadata": {},
   "source": [
    "### Termination Condition\n",
    "\n",
    "Finally, we will impose a termination condition. In this way, we can automate the creation of new generations, stopping once we have reached a satisfactory fitness level or when we've already iterated too much. In our case, we won't iterate more than 500 times."
   ]
  },
  {
   "cell_type": "code",
   "execution_count": 17,
   "id": "ce5b3d0e",
   "metadata": {},
   "outputs": [],
   "source": [
    "ngenerations = 500"
   ]
  },
  {
   "cell_type": "markdown",
   "id": "f331e600",
   "metadata": {},
   "source": [
    "The following function is useful for automating the creation of generations we've discussed."
   ]
  },
  {
   "cell_type": "code",
   "execution_count": 18,
   "id": "c4f9311e",
   "metadata": {},
   "outputs": [],
   "source": [
    "def geneticAlgorithm(city, popSize, eliteSize, mutationRate, generations):\n",
    "    pop = initialPopulation(popSize, city)\n",
    "    print(\"Initial value: \" + str(rankRoutes(pop, city)[0][1]))\n",
    "    \n",
    "    for i in range(0, generations):\n",
    "        pop = nextGeneration(pop, eliteSize, mutationRate, city)\n",
    "    \n",
    "    print(\"Final value: \" + str(rankRoutes(pop, city)[0][1]))\n",
    "    bestRouteIndex = rankRoutes(pop, city)[0][0]\n",
    "    bestRoute = pop[bestRouteIndex]\n",
    "    return bestRoute"
   ]
  },
  {
   "cell_type": "markdown",
   "id": "6b013590",
   "metadata": {},
   "source": [
    "### Running the genetic algorithm\n",
    "\n",
    "Finally, we can apply this last function in order to apply genetic algorithm to our sample of data and, in this way, find a good route that connects various locations in the city. Our sample data is the following:"
   ]
  },
  {
   "cell_type": "code",
   "execution_count": 19,
   "id": "b5814a58",
   "metadata": {},
   "outputs": [],
   "source": [
    "myCity = {}\n",
    "\n",
    "myCity['R1']  = Place(3,6)\n",
    "myCity['R2']  = Place(5,2)\n",
    "myCity['R3']  = Place(2,4)\n",
    "\n",
    "myCity['B1']  = Place(9,1)\n",
    "myCity['B2']  = Place(4,7)\n",
    "\n",
    "myCity['S1']  = Place(1,8)\n",
    "myCity['S2']  = Place(6,9)\n",
    "\n",
    "myCity['H1']  = Place(7,3)\n",
    "\n",
    "myCity['SC1'] = Place(8,5)\n",
    "myCity['SC2'] = Place(0,0)\n",
    "\n",
    "pSize = 4\n",
    "eSize = 2"
   ]
  },
  {
   "cell_type": "code",
   "execution_count": 20,
   "id": "860ca1b7",
   "metadata": {},
   "outputs": [
    {
     "name": "stdout",
     "output_type": "stream",
     "text": [
      "Initial value: 1.0\n"
     ]
    },
    {
     "name": "stdout",
     "output_type": "stream",
     "text": [
      "Final value: 1.1922312769536432\n"
     ]
    },
    {
     "data": {
      "text/plain": [
       "['SC1', 'H1', 'R2', 'R3']"
      ]
     },
     "execution_count": 20,
     "metadata": {},
     "output_type": "execute_result"
    }
   ],
   "source": [
    "geneticAlgorithm(city=myCity, popSize=pSize, eliteSize=eSize, mutationRate=mRate, generations=ngenerations)"
   ]
  },
  {
   "cell_type": "markdown",
   "id": "a29c51a2",
   "metadata": {},
   "source": [
    "### Plot the improvement"
   ]
  },
  {
   "cell_type": "code",
   "execution_count": 21,
   "id": "d838e8ff",
   "metadata": {},
   "outputs": [],
   "source": [
    "def geneticAlgorithmPlot(city, popSize, eliteSize, mutationRate, generations):\n",
    "    pop = initialPopulation(popSize, city)\n",
    "    progress = []\n",
    "    progress.append(rankRoutes(pop, city)[0][1])\n",
    "    \n",
    "    for i in range(0, generations):\n",
    "        pop = nextGeneration(pop, eliteSize, mutationRate, city)\n",
    "        progress.append(rankRoutes(pop, city)[0][1])\n",
    "        \n",
    "    \n",
    "    plt.plot(progress)\n",
    "    plt.ylabel('Value')\n",
    "    plt.xlabel('Generation')\n",
    "    plt.show()"
   ]
  },
  {
   "cell_type": "code",
   "execution_count": 22,
   "id": "656fbb3e",
   "metadata": {},
   "outputs": [
    {
     "data": {
      "image/png": "[encoded data removed]",
      "text/plain": [
       "<Figure size 640x480 with 1 Axes>"
      ]
     },
     "metadata": {},
     "output_type": "display_data"
    }
   ],
   "source": [
    "geneticAlgorithmPlot(city=myCity, popSize=pSize, eliteSize=eSize, mutationRate=mRate, generations=ngenerations)"
   ]
  },
  {
   "cell_type": "markdown",
   "id": "45a7080a",
   "metadata": {},
   "source": [
    "Code by: José Alberto Hoces Castro"
   ]
  }
 ],
 "metadata": {
  "kernelspec": {
   "display_name": "Python 3 (ipykernel)",
   "language": "python",
   "name": "python3"
  },
  "language_info": {
   "codemirror_mode": {
    "name": "ipython",
    "version": 3
   },
   "file_extension": ".py",
   "mimetype": "text/x-python",
   "name": "python",
   "nbconvert_exporter": "python",
   "pygments_lexer": "ipython3",
   "version": "3.9.13"
  }
 },
 "nbformat": 4,
 "nbformat_minor": 5
}
