{
 "cells": [
  {
   "cell_type": "markdown",
   "id": "4da647d0",
   "metadata": {},
   "source": [
    "## Genetic Algorithm for the Knapsack Problem\n",
    " \n",
    " ### Description of our scenario\n",
    " \n",
    " - Gene: an item which we can carry or not, represented as a tuple (value,weight).\n",
    " - Individual (aka “chromosome”): any possible combination of items (whether they exceed the capacity of the knapsack or not)\n",
    " - Fitness: a function that tells us how good each combination is (in our case, how high the value is)"
   ]
  },
  {
   "cell_type": "code",
   "execution_count": 1,
   "id": "1a874e45",
   "metadata": {},
   "outputs": [
    {
     "name": "stdout",
     "output_type": "stream",
     "text": [
      "Requirement already satisfied: pandas in c:\\users\\alberto\\anaconda3\\lib\\site-packages (1.4.4)\n",
      "Requirement already satisfied: pytz>=2020.1 in c:\\users\\alberto\\anaconda3\\lib\\site-packages (from pandas) (2022.1)\n",
      "Requirement already satisfied: python-dateutil>=2.8.1 in c:\\users\\alberto\\anaconda3\\lib\\site-packages (from pandas) (2.8.2)\n",
      "Requirement already satisfied: numpy>=1.18.5 in c:\\users\\alberto\\anaconda3\\lib\\site-packages (from pandas) (1.21.5)\n",
      "Requirement already satisfied: six>=1.5 in c:\\users\\alberto\\anaconda3\\lib\\site-packages (from python-dateutil>=2.8.1->pandas) (1.16.0)\n",
      "Note: you may need to restart the kernel to use updated packages.\n"
     ]
    }
   ],
   "source": [
    "pip install pandas"
   ]
  },
  {
   "cell_type": "code",
   "execution_count": 2,
   "id": "ec00d4e8",
   "metadata": {},
   "outputs": [],
   "source": [
    "import numpy as np, random, operator, pandas as pd, matplotlib.pyplot as plt"
   ]
  },
  {
   "cell_type": "markdown",
   "id": "41edc858",
   "metadata": {},
   "source": [
    "### Representation of an Individual Solution \n",
    "\n",
    "We need to create our initial population, so we will define a function that will produce random combinations (binary vectors where 1 indicates the inclusion of an item and 0 indicates exclusion) of items. We will check if they fit or not in the knapsack by using the fitness function."
   ]
  },
  {
   "cell_type": "code",
   "execution_count": 3,
   "id": "91c49162",
   "metadata": {},
   "outputs": [],
   "source": [
    "def createCombination(v):\n",
    "    length = len(v)\n",
    "    comb = random.sample([0,1], k = length, counts = [length, length])\n",
    "    return comb"
   ]
  },
  {
   "cell_type": "markdown",
   "id": "03ab0ca1",
   "metadata": {},
   "source": [
    "### Initialization\n",
    "\n",
    "Now we use the function we have already defined to define the function that creates our initial population:"
   ]
  },
  {
   "cell_type": "code",
   "execution_count": 4,
   "id": "357838b9",
   "metadata": {},
   "outputs": [],
   "source": [
    "def initialPopulation(popSize, v):\n",
    "    population = []\n",
    "\n",
    "    for i in range(0, popSize):\n",
    "        population.append(createCombination(v))\n",
    "    return population"
   ]
  },
  {
   "cell_type": "markdown",
   "id": "f9ea91fc",
   "metadata": {},
   "source": [
    "### Fitness function\n",
    "\n",
    "A combination will be better if it has a higher added up value, but it will be penalized if it does exceed the knapsack capacity"
   ]
  },
  {
   "cell_type": "code",
   "execution_count": 5,
   "id": "f5272ca6",
   "metadata": {},
   "outputs": [],
   "source": [
    "def valueFitness(comb):\n",
    "    totalvalue = 0\n",
    "    for i in range(0, len(comb)):\n",
    "        if comb[i]==1:\n",
    "            totalvalue += items[i][0]\n",
    "            \n",
    "    totalweight = 0\n",
    "    for i in range(0, len(comb)):\n",
    "        if comb[i]==1:\n",
    "            totalweight += items[i][1]\n",
    "            \n",
    "    penalized = 1\n",
    "    if totalweight > knapsack_capacity:\n",
    "        penalized = 0.4\n",
    "        \n",
    "    fitness = totalvalue * penalized\n",
    "    return fitness"
   ]
  },
  {
   "cell_type": "markdown",
   "id": "c188eb4f",
   "metadata": {},
   "source": [
    "To simulate our “survival of the fittest”, we use this function to rank each individual in the population. Our output will be an ordered list with the combinations IDs (index in population) and each associated fitness score."
   ]
  },
  {
   "cell_type": "code",
   "execution_count": 6,
   "id": "dce42dd8",
   "metadata": {},
   "outputs": [],
   "source": [
    "def rankCombs(population):\n",
    "    fitnessResults = {}\n",
    "    for i in range(0,len(population)):\n",
    "        fitnessResults[i] = valueFitness(population[i])\n",
    "    return sorted(fitnessResults.items(), key = operator.itemgetter(1), reverse = True)"
   ]
  },
  {
   "cell_type": "markdown",
   "id": "04f81dca",
   "metadata": {},
   "source": [
    "### Selection method\n",
    "\n",
    "We would have to select a subgroup from the population such that this group constitutes the mating pool. For this, we need to define a selection mechanism. Let's see:"
   ]
  },
  {
   "cell_type": "code",
   "execution_count": 7,
   "id": "58bb7354",
   "metadata": {},
   "outputs": [],
   "source": [
    "def selection(popRanked, eliteSize):\n",
    "    selectionResults = []\n",
    "    df = pd.DataFrame(np.array(popRanked), columns=[\"Index\",\"Fitness\"])\n",
    "    df['cum_sum'] = df.Fitness.cumsum()\n",
    "    df['cum_perc'] = 100*df.cum_sum/df.Fitness.sum()\n",
    "    \n",
    "    for i in range(0, eliteSize):\n",
    "        selectionResults.append(popRanked[i][0])\n",
    "        \n",
    "    for i in range(0, len(popRanked) - eliteSize):\n",
    "        pick = 100*random.random()\n",
    "        for i in range(0, len(popRanked)):\n",
    "            if pick <= df.iat[i,3]:\n",
    "                selectionResults.append(popRanked[i][0])\n",
    "                break\n",
    "    return selectionResults"
   ]
  },
  {
   "cell_type": "markdown",
   "id": "2aa004d9",
   "metadata": {},
   "source": [
    "Now that we have the IDs of the combinations that will make up our mating pool from the selection function, we can create the mating pool. We’re simply extracting the selected individuals from our population."
   ]
  },
  {
   "cell_type": "code",
   "execution_count": 8,
   "id": "e2283378",
   "metadata": {},
   "outputs": [],
   "source": [
    "def matingPool(population, selectionResults):\n",
    "    matingpool = []\n",
    "    for i in range(0, len(selectionResults)):\n",
    "        index = selectionResults[i]\n",
    "        matingpool.append(population[index])\n",
    "    return matingpool"
   ]
  },
  {
   "cell_type": "markdown",
   "id": "4e707de3",
   "metadata": {},
   "source": [
    "### Crossover \n",
    "We will implement a simple crossover: pick a crossover point and splice the two strings together to produce an offspring."
   ]
  },
  {
   "cell_type": "code",
   "execution_count": 9,
   "id": "637f31a1",
   "metadata": {},
   "outputs": [],
   "source": [
    "def breed(parent1, parent2):\n",
    "    child = []\n",
    "    length = len(parent1)\n",
    "    splitpoint = random.randint(0, length)\n",
    "\n",
    "    for i in range(0, splitpoint):\n",
    "        child.append(parent1[i])\n",
    "        \n",
    "    for i in range(splitpoint, length):\n",
    "        child.append(parent2[i])\n",
    "        \n",
    "    return child"
   ]
  },
  {
   "cell_type": "markdown",
   "id": "19f5c587",
   "metadata": {},
   "source": [
    "Next we'll generalize this to create our offspring population"
   ]
  },
  {
   "cell_type": "code",
   "execution_count": 10,
   "id": "afd956e2",
   "metadata": {},
   "outputs": [],
   "source": [
    "def breedPopulation(matingpool, eliteSize):\n",
    "    children = []\n",
    "    length = len(matingpool) - eliteSize\n",
    "    pool = random.sample(matingpool, len(matingpool))\n",
    "\n",
    "    for i in range(0,eliteSize):\n",
    "        children.append(matingpool[i])\n",
    "    \n",
    "    for i in range(0, length):\n",
    "        child = breed(pool[i], pool[len(matingpool)-i-1])\n",
    "        children.append(child)\n",
    "    return children"
   ]
  },
  {
   "cell_type": "markdown",
   "id": "0dd3ab28",
   "metadata": {},
   "source": [
    "### Mutation\n",
    "\n",
    "Mutation will simply consist of assigning a low probability of a gene changing from 0 to 1, or vice versa."
   ]
  },
  {
   "cell_type": "code",
   "execution_count": 11,
   "id": "4693e150",
   "metadata": {},
   "outputs": [],
   "source": [
    "mRate = 0.01"
   ]
  },
  {
   "cell_type": "code",
   "execution_count": 12,
   "id": "cefd6ecd",
   "metadata": {},
   "outputs": [],
   "source": [
    "def mutate(individual, mutationRate):\n",
    "    for swapped in range(len(individual)):\n",
    "        if(random.random() < mutationRate):\n",
    "            if individual[swapped] == 0:\n",
    "                individual[swapped] = 1\n",
    "            else:\n",
    "                individual[swapped] = 0\n",
    "            \n",
    "    return individual"
   ]
  },
  {
   "cell_type": "markdown",
   "id": "845b309c",
   "metadata": {},
   "source": [
    "Next, we can extend the mutate function to run through the new population."
   ]
  },
  {
   "cell_type": "code",
   "execution_count": 13,
   "id": "bf82dff5",
   "metadata": {},
   "outputs": [],
   "source": [
    "def mutatePopulation(population, mutationRate):\n",
    "    mutatedPop = []\n",
    "    \n",
    "    for ind in range(0, len(population)):\n",
    "        mutatedInd = mutate(population[ind], mutationRate)\n",
    "        mutatedPop.append(mutatedInd)\n",
    "    return mutatedPop"
   ]
  },
  {
   "cell_type": "markdown",
   "id": "a1c71b6f",
   "metadata": {},
   "source": [
    "### Creating a New Generation\n",
    "\n",
    "Let’s pull these pieces together to create a function that produces a new generation. First, we rank the combinations in the current generation using rankCombs. We then determine our potential parents by running the selection function, which allows us to create the mating pool using the matingPool function. Finally, we then create our new generation using the breedPopulation function and then applying mutation using the mutatePopulation function."
   ]
  },
  {
   "cell_type": "code",
   "execution_count": 14,
   "id": "fdf50b4d",
   "metadata": {},
   "outputs": [],
   "source": [
    "def nextGeneration(currentGen, eliteSize, mutationRate):\n",
    "    popRanked = rankCombs(currentGen)\n",
    "    selectionResults = selection(popRanked, eliteSize)\n",
    "    matingpool = matingPool(currentGen, selectionResults)\n",
    "    children = breedPopulation(matingpool, eliteSize)\n",
    "    nextGeneration = mutatePopulation(children, mutationRate)\n",
    "    return nextGeneration"
   ]
  },
  {
   "cell_type": "markdown",
   "id": "45cde1ca",
   "metadata": {},
   "source": [
    "### Termination Condition\n",
    "\n",
    "Finally, we will impose a termination condition. In this way, we can automate the creation of new generations, stopping once we have reached a satisfactory fitness level or when we've already iterated too much. In our case, we won't iterate more than 500 times."
   ]
  },
  {
   "cell_type": "code",
   "execution_count": 15,
   "id": "ce5b3d0e",
   "metadata": {},
   "outputs": [],
   "source": [
    "ngenerations = 500"
   ]
  },
  {
   "cell_type": "markdown",
   "id": "f331e600",
   "metadata": {},
   "source": [
    "The following function is useful for automating the creation of generations we've discussed."
   ]
  },
  {
   "cell_type": "code",
   "execution_count": 16,
   "id": "c4f9311e",
   "metadata": {},
   "outputs": [],
   "source": [
    "def geneticAlgorithm(population, popSize, eliteSize, mutationRate, generations):\n",
    "    pop = initialPopulation(popSize, population)\n",
    "    print(\"Initial value: \" + str(rankCombs(pop)[0][1]))\n",
    "    \n",
    "    for i in range(0, generations):\n",
    "        pop = nextGeneration(pop, eliteSize, mutationRate)\n",
    "    \n",
    "    print(\"Final value: \" + str(rankCombs(pop)[0][1]))\n",
    "    bestCombIndex = rankCombs(pop)[0][0]\n",
    "    bestComb = pop[bestCombIndex]\n",
    "    return bestComb"
   ]
  },
  {
   "cell_type": "markdown",
   "id": "6b013590",
   "metadata": {},
   "source": [
    "### Running the genetic algorithm\n",
    "\n",
    "Finally, we can apply this last function in order to apply genetic algorithm to our sample of data and, in this way, solve out Knapsack Problem. Our sample data is the following:"
   ]
  },
  {
   "cell_type": "code",
   "execution_count": 17,
   "id": "d347ee3c",
   "metadata": {},
   "outputs": [],
   "source": [
    "items = [(60, 10), (100, 20), (120, 30)]  # Each tuple is (value, weight)\n",
    "knapsack_capacity = 50"
   ]
  },
  {
   "cell_type": "code",
   "execution_count": 18,
   "id": "860ca1b7",
   "metadata": {},
   "outputs": [
    {
     "name": "stdout",
     "output_type": "stream",
     "text": [
      "Initial value: 120\n"
     ]
    },
    {
     "name": "stdout",
     "output_type": "stream",
     "text": [
      "Final value: 180\n"
     ]
    },
    {
     "data": {
      "text/plain": [
       "[1, 0, 1]"
      ]
     },
     "execution_count": 18,
     "metadata": {},
     "output_type": "execute_result"
    }
   ],
   "source": [
    "\n",
    "pSize = 4\n",
    "eSize = 2\n",
    "geneticAlgorithm(population=items, popSize=pSize, eliteSize=eSize, mutationRate=mRate, generations=ngenerations)"
   ]
  },
  {
   "cell_type": "markdown",
   "id": "a29c51a2",
   "metadata": {},
   "source": [
    "### Plot the improvement"
   ]
  },
  {
   "cell_type": "code",
   "execution_count": 19,
   "id": "d838e8ff",
   "metadata": {},
   "outputs": [],
   "source": [
    "def geneticAlgorithmPlot(population, popSize, eliteSize, mutationRate, generations):\n",
    "    pop = initialPopulation(popSize, population)\n",
    "    progress = []\n",
    "    progress.append(rankCombs(pop)[0][1])\n",
    "    \n",
    "    for i in range(0, generations):\n",
    "        pop = nextGeneration(pop, eliteSize, mutationRate)\n",
    "        progress.append(rankCombs(pop)[0][1])\n",
    "        \n",
    "    \n",
    "    plt.plot(progress)\n",
    "    plt.ylabel('Value')\n",
    "    plt.xlabel('Generation')\n",
    "    plt.show()"
   ]
  },
  {
   "cell_type": "code",
   "execution_count": 22,
   "id": "656fbb3e",
   "metadata": {},
   "outputs": [
    {
     "data": {
      "image/png": "[encoded data removed]",
      "text/plain": [
       "<Figure size 640x480 with 1 Axes>"
      ]
     },
     "metadata": {},
     "output_type": "display_data"
    }
   ],
   "source": [
    "geneticAlgorithmPlot(population=items, popSize=pSize, eliteSize=eSize, mutationRate=mRate, generations=ngenerations)"
   ]
  }
 ],
 "metadata": {
  "kernelspec": {
   "display_name": "Python 3 (ipykernel)",
   "language": "python",
   "name": "python3"
  },
  "language_info": {
   "codemirror_mode": {
    "name": "ipython",
    "version": 3
   },
   "file_extension": ".py",
   "mimetype": "text/x-python",
   "name": "python",
   "nbconvert_exporter": "python",
   "pygments_lexer": "ipython3",
   "version": "3.9.13"
  }
 },
 "nbformat": 4,
 "nbformat_minor": 5
}
