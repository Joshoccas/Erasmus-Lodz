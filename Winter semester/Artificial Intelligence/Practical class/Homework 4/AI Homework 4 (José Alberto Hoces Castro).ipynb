{
 "cells": [
  {
   "cell_type": "markdown",
   "metadata": {},
   "source": [
    "# Exploring Maze Solutions Using Depth-First Search"
   ]
  },
  {
   "cell_type": "markdown",
   "metadata": {},
   "source": [
    "### 1. Maze representation"
   ]
  },
  {
   "cell_type": "code",
   "execution_count": 1,
   "metadata": {},
   "outputs": [],
   "source": [
    "import numpy as np\n",
    "\n",
    "maze = np.array([\n",
    "    [0, 1, 0, 1, 0],\n",
    "    [0, 1, 0, 1, 0],\n",
    "    [0, 0, 0, 0, 0],\n",
    "    [1, 0, 1, 1, 0],\n",
    "    [0, 0, 0, 1, 0]\n",
    "])"
   ]
  },
  {
   "cell_type": "markdown",
   "metadata": {},
   "source": [
    "### 2. Implementation of Depth-First Search (DFS)"
   ]
  },
  {
   "cell_type": "code",
   "execution_count": 2,
   "metadata": {},
   "outputs": [],
   "source": [
    "def DFS(maze, start, goal):\n",
    "    \n",
    "    # We initialize a stack data structure with the start position of the maze\n",
    "\n",
    "    stack = [start]\n",
    "\n",
    "    # Then, we create a set of visited nodes to track which positions of the maze\n",
    "    # we have already visited\n",
    "\n",
    "    visited = set()\n",
    "\n",
    "    # We will need a dictionary to save the parent of each node and be able to \n",
    "    # reconstruct the path to the solution in case it is found\n",
    "\n",
    "    parent = {start: None}\n",
    "\n",
    "    # The neighbors will be the 4 adjacent positions in the maze (right, left, down, up)\n",
    "    neighbors = [(0, 1), (0, -1), (1, 0), (-1, 0)] \n",
    "\n",
    "    while stack:\n",
    "        \n",
    "        current = stack.pop()\n",
    "\n",
    "        # In case that the current node is the goal node, we reconstruct and return the\n",
    "        # path from start to goal using the dictionary parent\n",
    "\n",
    "        if current == goal:\n",
    "            \n",
    "            path = []\n",
    "            while current is not None:\n",
    "                path.append(current)\n",
    "                current = parent[current]\n",
    "            return path[::-1]\n",
    "\n",
    "        # If current is not in visited, we add it to the set and explore its 4 neighbours\n",
    "\n",
    "        if current not in visited:\n",
    "\n",
    "            visited.add(current)\n",
    "\n",
    "            for i,j in neighbors:\n",
    "\n",
    "                neighbor = current[0] + i, current[1] + j\n",
    "\n",
    "                # If the neighbour has legal coordinates, it is not a wall and it is not in the\n",
    "                # set visited, we add it to our stack and save its parent\n",
    "\n",
    "                if 0 <= neighbor[0] < maze.shape[0] and 0 <= neighbor[1] < maze.shape[1]:\n",
    "                    if maze[neighbor[0]][neighbor[1]] == 0 and neighbor not in visited:\n",
    "                         stack.append(neighbor)\n",
    "                         parent[neighbor] = current\n",
    "\n",
    "    # If the path to the solution has not been found, we return None\n",
    "                                      \n",
    "    return None"
   ]
  },
  {
   "cell_type": "markdown",
   "metadata": {},
   "source": [
    "### 3. Path Finding"
   ]
  },
  {
   "cell_type": "code",
   "execution_count": 3,
   "metadata": {},
   "outputs": [
    {
     "name": "stdout",
     "output_type": "stream",
     "text": [
      "Path from Start to Destination: [(0, 0), (1, 0), (2, 0), (2, 1), (2, 2), (2, 3), (2, 4), (3, 4), (4, 4)]\n"
     ]
    }
   ],
   "source": [
    "# Start and Goal Points\n",
    "start = (0, 0) # Start Point (S)\n",
    "goal = (4, 4) # Destination Point (D)\n",
    "\n",
    "# Find the path\n",
    "path = DFS(maze, start, goal)\n",
    "\n",
    "# Print the path\n",
    "if path:\n",
    " print(\"Path from Start to Destination:\", path)\n",
    "else:\n",
    " print(\"No path found from Start to Destination\")"
   ]
  },
  {
   "cell_type": "markdown",
   "metadata": {},
   "source": [
    "### 4. Documentation\n",
    "\n",
    "The code is already explained with comments and the path found is:\n",
    "\n",
    "[(0, 0), (1, 0), (2, 0), (2, 1), (2, 2), (2, 3), (2, 4), (3, 4), (4, 4)]"
   ]
  }
 ],
 "metadata": {
  "kernelspec": {
   "display_name": "base",
   "language": "python",
   "name": "python3"
  },
  "language_info": {
   "codemirror_mode": {
    "name": "ipython",
    "version": 3
   },
   "file_extension": ".py",
   "mimetype": "text/x-python",
   "name": "python",
   "nbconvert_exporter": "python",
   "pygments_lexer": "ipython3",
   "version": "3.9.13"
  }
 },
 "nbformat": 4,
 "nbformat_minor": 2
}
